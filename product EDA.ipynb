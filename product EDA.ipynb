{
 "cells": [
  {
   "cell_type": "code",
   "execution_count": 1,
   "metadata": {},
   "outputs": [],
   "source": [
    "import pandas as pd\n",
    "import numpy as np\n",
    "\n",
    "\n",
    "product = pd.read_csv('F:\\제5회 Big Data Competition-Digital Trend Analyzer\\제5회 Big Data Competition-분석용데이터-01.Pruduct.csv', engine='python')"
   ]
  },
  {
   "cell_type": "code",
   "execution_count": 33,
   "metadata": {},
   "outputs": [
    {
     "data": {
      "text/plain": [
       "(1048575, 8)"
      ]
     },
     "execution_count": 33,
     "metadata": {},
     "output_type": "execute_result"
    }
   ],
   "source": [
    "product.shape"
   ]
  },
  {
   "cell_type": "code",
   "execution_count": 34,
   "metadata": {},
   "outputs": [
    {
     "data": {
      "text/html": [
       "<div>\n",
       "<style scoped>\n",
       "    .dataframe tbody tr th:only-of-type {\n",
       "        vertical-align: middle;\n",
       "    }\n",
       "\n",
       "    .dataframe tbody tr th {\n",
       "        vertical-align: top;\n",
       "    }\n",
       "\n",
       "    .dataframe thead th {\n",
       "        text-align: right;\n",
       "    }\n",
       "</style>\n",
       "<table border=\"1\" class=\"dataframe\">\n",
       "  <thead>\n",
       "    <tr style=\"text-align: right;\">\n",
       "      <th></th>\n",
       "      <th>CLNT_ID</th>\n",
       "      <th>SESS_ID</th>\n",
       "      <th>HITS_SEQ</th>\n",
       "      <th>PD_C</th>\n",
       "      <th>PD_ADD_NM</th>\n",
       "      <th>PD_BRA_NM</th>\n",
       "      <th>PD_BUY_AM</th>\n",
       "      <th>PD_BUY_CT</th>\n",
       "    </tr>\n",
       "  </thead>\n",
       "  <tbody>\n",
       "    <tr>\n",
       "      <th>0</th>\n",
       "      <td>25</td>\n",
       "      <td>7605037</td>\n",
       "      <td>12</td>\n",
       "      <td>642112</td>\n",
       "      <td>색상:워터멜론</td>\n",
       "      <td>[바비브라운]</td>\n",
       "      <td>39000</td>\n",
       "      <td>1</td>\n",
       "    </tr>\n",
       "    <tr>\n",
       "      <th>1</th>\n",
       "      <td>25</td>\n",
       "      <td>10189797</td>\n",
       "      <td>13</td>\n",
       "      <td>570603</td>\n",
       "      <td>색상:BLK0_(BLK0)BLACK|사이즈:120 / 2개</td>\n",
       "      <td>데상트</td>\n",
       "      <td>39000</td>\n",
       "      <td>2</td>\n",
       "    </tr>\n",
       "    <tr>\n",
       "      <th>2</th>\n",
       "      <td>33</td>\n",
       "      <td>6158159</td>\n",
       "      <td>85</td>\n",
       "      <td>179538</td>\n",
       "      <td>na</td>\n",
       "      <td>[아베다]</td>\n",
       "      <td>39000</td>\n",
       "      <td>1</td>\n",
       "    </tr>\n",
       "    <tr>\n",
       "      <th>3</th>\n",
       "      <td>56</td>\n",
       "      <td>7935714</td>\n",
       "      <td>12</td>\n",
       "      <td>554336</td>\n",
       "      <td>색상:블랙|사이즈:160cm(12~13세) / 1개</td>\n",
       "      <td>아디다스 키즈</td>\n",
       "      <td>39000</td>\n",
       "      <td>1</td>\n",
       "    </tr>\n",
       "    <tr>\n",
       "      <th>4</th>\n",
       "      <td>56</td>\n",
       "      <td>6406509</td>\n",
       "      <td>78</td>\n",
       "      <td>190306</td>\n",
       "      <td>5개</td>\n",
       "      <td>데코르테</td>\n",
       "      <td>39000</td>\n",
       "      <td>5</td>\n",
       "    </tr>\n",
       "  </tbody>\n",
       "</table>\n",
       "</div>"
      ],
      "text/plain": [
       "   CLNT_ID   SESS_ID  HITS_SEQ    PD_C                         PD_ADD_NM  \\\n",
       "0       25   7605037        12  642112                           색상:워터멜론   \n",
       "1       25  10189797        13  570603  색상:BLK0_(BLK0)BLACK|사이즈:120 / 2개   \n",
       "2       33   6158159        85  179538                                na   \n",
       "3       56   7935714        12  554336      색상:블랙|사이즈:160cm(12~13세) / 1개   \n",
       "4       56   6406509        78  190306                                5개   \n",
       "\n",
       "  PD_BRA_NM  PD_BUY_AM PD_BUY_CT  \n",
       "0   [바비브라운]      39000         1  \n",
       "1       데상트      39000         2  \n",
       "2     [아베다]      39000         1  \n",
       "3   아디다스 키즈      39000         1  \n",
       "4      데코르테      39000         5  "
      ]
     },
     "execution_count": 34,
     "metadata": {},
     "output_type": "execute_result"
    }
   ],
   "source": [
    "product.head()"
   ]
  },
  {
   "cell_type": "code",
   "execution_count": 35,
   "metadata": {},
   "outputs": [
    {
     "name": "stdout",
     "output_type": "stream",
     "text": [
      "0    25\n",
      "1    25\n",
      "2    33\n",
      "3    56\n",
      "4    56\n",
      "Name: CLNT_ID, dtype: int64\n",
      "\n",
      "0     7605037\n",
      "1    10189797\n",
      "2     6158159\n",
      "3     7935714\n",
      "4     6406509\n",
      "Name: SESS_ID, dtype: int64\n",
      "\n",
      "0    12\n",
      "1    13\n",
      "2    85\n",
      "3    12\n",
      "4    78\n",
      "Name: HITS_SEQ, dtype: int64\n",
      "\n",
      "0    642112\n",
      "1    570603\n",
      "2    179538\n",
      "3    554336\n",
      "4    190306\n",
      "Name: PD_C, dtype: int64\n",
      "\n",
      "0                             색상:워터멜론\n",
      "1    색상:BLK0_(BLK0)BLACK|사이즈:120 / 2개\n",
      "2                                  na\n",
      "3        색상:블랙|사이즈:160cm(12~13세) / 1개\n",
      "4                                  5개\n",
      "Name: PD_ADD_NM, dtype: object\n",
      "\n",
      "0    [바비브라운]\n",
      "1        데상트\n",
      "2      [아베다]\n",
      "3    아디다스 키즈\n",
      "4       데코르테\n",
      "Name: PD_BRA_NM, dtype: object\n",
      "\n",
      "0    39000\n",
      "1    39000\n",
      "2    39000\n",
      "3    39000\n",
      "4    39000\n",
      "Name: PD_BUY_AM, dtype: int64\n",
      "\n",
      "0    1\n",
      "1    2\n",
      "2    1\n",
      "3    1\n",
      "4    5\n",
      "Name: PD_BUY_CT, dtype: object\n",
      "\n"
     ]
    }
   ],
   "source": [
    "for col in product.columns:\n",
    "    print('{}\\n'.format(product[col].head()))"
   ]
  },
  {
   "cell_type": "code",
   "execution_count": 48,
   "metadata": {},
   "outputs": [
    {
     "name": "stdout",
     "output_type": "stream",
     "text": [
      "<class 'pandas.core.frame.DataFrame'>\n",
      "RangeIndex: 1048575 entries, 0 to 1048574\n",
      "Data columns (total 8 columns):\n",
      "CLNT_ID      1048575 non-null int64\n",
      "SESS_ID      1048575 non-null int64\n",
      "HITS_SEQ     1048575 non-null int64\n",
      "PD_C         1048575 non-null int64\n",
      "PD_ADD_NM    1048575 non-null object\n",
      "PD_BRA_NM    1048575 non-null object\n",
      "PD_BUY_AM    1048575 non-null int64\n",
      "PD_BUY_CT    1048575 non-null object\n",
      "dtypes: int64(5), object(3)\n",
      "memory usage: 64.0+ MB\n"
     ]
    }
   ],
   "source": [
    "product.info()"
   ]
  },
  {
   "cell_type": "code",
   "execution_count": 46,
   "metadata": {},
   "outputs": [
    {
     "data": {
      "text/html": [
       "<div>\n",
       "<style scoped>\n",
       "    .dataframe tbody tr th:only-of-type {\n",
       "        vertical-align: middle;\n",
       "    }\n",
       "\n",
       "    .dataframe tbody tr th {\n",
       "        vertical-align: top;\n",
       "    }\n",
       "\n",
       "    .dataframe thead th {\n",
       "        text-align: right;\n",
       "    }\n",
       "</style>\n",
       "<table border=\"1\" class=\"dataframe\">\n",
       "  <thead>\n",
       "    <tr style=\"text-align: right;\">\n",
       "      <th></th>\n",
       "      <th>CLNT_ID</th>\n",
       "      <th>SESS_ID</th>\n",
       "      <th>HITS_SEQ</th>\n",
       "      <th>PD_C</th>\n",
       "      <th>PD_BUY_AM</th>\n",
       "    </tr>\n",
       "  </thead>\n",
       "  <tbody>\n",
       "    <tr>\n",
       "      <th>count</th>\n",
       "      <td>1.048575e+06</td>\n",
       "      <td>1.048575e+06</td>\n",
       "      <td>1.048575e+06</td>\n",
       "      <td>1.048575e+06</td>\n",
       "      <td>1.048575e+06</td>\n",
       "    </tr>\n",
       "    <tr>\n",
       "      <th>mean</th>\n",
       "      <td>3.323788e+06</td>\n",
       "      <td>5.828583e+06</td>\n",
       "      <td>7.951616e+01</td>\n",
       "      <td>4.880524e+05</td>\n",
       "      <td>2.461274e+04</td>\n",
       "    </tr>\n",
       "    <tr>\n",
       "      <th>std</th>\n",
       "      <td>1.917231e+06</td>\n",
       "      <td>3.071102e+06</td>\n",
       "      <td>8.425340e+01</td>\n",
       "      <td>2.492734e+05</td>\n",
       "      <td>2.076015e+04</td>\n",
       "    </tr>\n",
       "    <tr>\n",
       "      <th>min</th>\n",
       "      <td>2.500000e+01</td>\n",
       "      <td>2.600000e+01</td>\n",
       "      <td>1.000000e+00</td>\n",
       "      <td>4.000000e+00</td>\n",
       "      <td>1.000000e+01</td>\n",
       "    </tr>\n",
       "    <tr>\n",
       "      <th>25%</th>\n",
       "      <td>1.656017e+06</td>\n",
       "      <td>3.242700e+06</td>\n",
       "      <td>2.400000e+01</td>\n",
       "      <td>2.789090e+05</td>\n",
       "      <td>4.200000e+03</td>\n",
       "    </tr>\n",
       "    <tr>\n",
       "      <th>50%</th>\n",
       "      <td>3.337207e+06</td>\n",
       "      <td>6.019554e+06</td>\n",
       "      <td>4.900000e+01</td>\n",
       "      <td>5.137340e+05</td>\n",
       "      <td>7.000000e+03</td>\n",
       "    </tr>\n",
       "    <tr>\n",
       "      <th>75%</th>\n",
       "      <td>4.994410e+06</td>\n",
       "      <td>8.428752e+06</td>\n",
       "      <td>1.020000e+02</td>\n",
       "      <td>7.188360e+05</td>\n",
       "      <td>4.500000e+04</td>\n",
       "    </tr>\n",
       "    <tr>\n",
       "      <th>max</th>\n",
       "      <td>6.592554e+06</td>\n",
       "      <td>1.097790e+07</td>\n",
       "      <td>5.000000e+02</td>\n",
       "      <td>8.476520e+05</td>\n",
       "      <td>5.530000e+04</td>\n",
       "    </tr>\n",
       "  </tbody>\n",
       "</table>\n",
       "</div>"
      ],
      "text/plain": [
       "            CLNT_ID       SESS_ID      HITS_SEQ          PD_C     PD_BUY_AM\n",
       "count  1.048575e+06  1.048575e+06  1.048575e+06  1.048575e+06  1.048575e+06\n",
       "mean   3.323788e+06  5.828583e+06  7.951616e+01  4.880524e+05  2.461274e+04\n",
       "std    1.917231e+06  3.071102e+06  8.425340e+01  2.492734e+05  2.076015e+04\n",
       "min    2.500000e+01  2.600000e+01  1.000000e+00  4.000000e+00  1.000000e+01\n",
       "25%    1.656017e+06  3.242700e+06  2.400000e+01  2.789090e+05  4.200000e+03\n",
       "50%    3.337207e+06  6.019554e+06  4.900000e+01  5.137340e+05  7.000000e+03\n",
       "75%    4.994410e+06  8.428752e+06  1.020000e+02  7.188360e+05  4.500000e+04\n",
       "max    6.592554e+06  1.097790e+07  5.000000e+02  8.476520e+05  5.530000e+04"
      ]
     },
     "execution_count": 46,
     "metadata": {},
     "output_type": "execute_result"
    }
   ],
   "source": [
    "num_cols = [col for col in product.columns[:8] if product[col].dtype in ['int64']]\n",
    "product[num_cols].describe()"
   ]
  },
  {
   "cell_type": "code",
   "execution_count": 45,
   "metadata": {},
   "outputs": [
    {
     "data": {
      "text/html": [
       "<div>\n",
       "<style scoped>\n",
       "    .dataframe tbody tr th:only-of-type {\n",
       "        vertical-align: middle;\n",
       "    }\n",
       "\n",
       "    .dataframe tbody tr th {\n",
       "        vertical-align: top;\n",
       "    }\n",
       "\n",
       "    .dataframe thead th {\n",
       "        text-align: right;\n",
       "    }\n",
       "</style>\n",
       "<table border=\"1\" class=\"dataframe\">\n",
       "  <thead>\n",
       "    <tr style=\"text-align: right;\">\n",
       "      <th></th>\n",
       "      <th>PD_ADD_NM</th>\n",
       "      <th>PD_BRA_NM</th>\n",
       "      <th>PD_BUY_CT</th>\n",
       "    </tr>\n",
       "  </thead>\n",
       "  <tbody>\n",
       "    <tr>\n",
       "      <th>count</th>\n",
       "      <td>1048575</td>\n",
       "      <td>1048575</td>\n",
       "      <td>1048575</td>\n",
       "    </tr>\n",
       "    <tr>\n",
       "      <th>unique</th>\n",
       "      <td>207202</td>\n",
       "      <td>12220</td>\n",
       "      <td>250</td>\n",
       "    </tr>\n",
       "    <tr>\n",
       "      <th>top</th>\n",
       "      <td>1개</td>\n",
       "      <td>입생로랑</td>\n",
       "      <td>1</td>\n",
       "    </tr>\n",
       "    <tr>\n",
       "      <th>freq</th>\n",
       "      <td>137220</td>\n",
       "      <td>18686</td>\n",
       "      <td>896746</td>\n",
       "    </tr>\n",
       "  </tbody>\n",
       "</table>\n",
       "</div>"
      ],
      "text/plain": [
       "       PD_ADD_NM PD_BRA_NM PD_BUY_CT\n",
       "count    1048575   1048575   1048575\n",
       "unique    207202     12220       250\n",
       "top           1개      입생로랑         1\n",
       "freq      137220     18686    896746"
      ]
     },
     "execution_count": 45,
     "metadata": {},
     "output_type": "execute_result"
    }
   ],
   "source": [
    "cat_cols = [col for col in product.columns[:8] if product[col].dtype in ['object']]\n",
    "product[cat_cols].describe()\n"
   ]
  },
  {
   "cell_type": "code",
   "execution_count": 2,
   "metadata": {},
   "outputs": [],
   "source": [
    "product[['PD_BUY_CT']] = product[['PD_BUY_CT']].astype(float)        "
   ]
  },
  {
   "cell_type": "code",
   "execution_count": 3,
   "metadata": {},
   "outputs": [
    {
     "name": "stdout",
     "output_type": "stream",
     "text": [
      "<class 'pandas.core.frame.DataFrame'>\n",
      "RangeIndex: 1048575 entries, 0 to 1048574\n",
      "Data columns (total 8 columns):\n",
      "CLNT_ID      1048575 non-null int64\n",
      "SESS_ID      1048575 non-null int64\n",
      "HITS_SEQ     1048575 non-null int64\n",
      "PD_C         1048575 non-null int64\n",
      "PD_ADD_NM    1048575 non-null object\n",
      "PD_BRA_NM    1048575 non-null object\n",
      "PD_BUY_AM    1048575 non-null int64\n",
      "PD_BUY_CT    1048575 non-null float64\n",
      "dtypes: float64(1), int64(5), object(2)\n",
      "memory usage: 64.0+ MB\n"
     ]
    }
   ],
   "source": [
    "product.info()"
   ]
  },
  {
   "cell_type": "code",
   "execution_count": 5,
   "metadata": {},
   "outputs": [],
   "source": [
    "product[['PD_BUY_CT']] = product[['PD_BUY_CT']].astype('int64')  "
   ]
  },
  {
   "cell_type": "code",
   "execution_count": 6,
   "metadata": {},
   "outputs": [
    {
     "name": "stdout",
     "output_type": "stream",
     "text": [
      "<class 'pandas.core.frame.DataFrame'>\n",
      "RangeIndex: 1048575 entries, 0 to 1048574\n",
      "Data columns (total 8 columns):\n",
      "CLNT_ID      1048575 non-null int64\n",
      "SESS_ID      1048575 non-null int64\n",
      "HITS_SEQ     1048575 non-null int64\n",
      "PD_C         1048575 non-null int64\n",
      "PD_ADD_NM    1048575 non-null object\n",
      "PD_BRA_NM    1048575 non-null object\n",
      "PD_BUY_AM    1048575 non-null int64\n",
      "PD_BUY_CT    1048575 non-null int64\n",
      "dtypes: int64(6), object(2)\n",
      "memory usage: 64.0+ MB\n"
     ]
    }
   ],
   "source": [
    "product.info()"
   ]
  },
  {
   "cell_type": "code",
   "execution_count": null,
   "metadata": {},
   "outputs": [],
   "source": []
  }
 ],
 "metadata": {
  "kernelspec": {
   "display_name": "Python 3",
   "language": "python",
   "name": "python3"
  },
  "language_info": {
   "codemirror_mode": {
    "name": "ipython",
    "version": 3
   },
   "file_extension": ".py",
   "mimetype": "text/x-python",
   "name": "python",
   "nbconvert_exporter": "python",
   "pygments_lexer": "ipython3",
   "version": "3.7.1"
  }
 },
 "nbformat": 4,
 "nbformat_minor": 2
}
